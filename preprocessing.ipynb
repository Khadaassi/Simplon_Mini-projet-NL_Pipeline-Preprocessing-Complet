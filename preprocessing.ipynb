{
 "cells": [
  {
   "cell_type": "code",
   "execution_count": null,
   "id": "9de77364",
   "metadata": {},
   "outputs": [],
   "source": [
    "import nltk\n",
    "import pandas as pd\n",
    "import nltk\n",
    "import string\n",
    "import re\n",
    "import inflect\n",
    "from textblob import TextBlob\n",
    "from nltk.corpus import stopwords\n",
    "from nltk.tokenize import word_tokenize\n",
    "from nltk.stem import WordNetLemmatizer\n",
    "from nltk.stem.porter import PorterStemmer\n",
    "from nltk.tokenize import word_tokenize"
   ]
  },
  {
   "cell_type": "code",
   "execution_count": 2,
   "id": "8e482826",
   "metadata": {},
   "outputs": [],
   "source": [
    "# text = \"\"\"One of the other reviewers has mentioned that after watching just 1 Oz episode you'll be hooked.\n",
    "# They are right, as this is exactly what happened with me.<br /><br />The first thing that struck me about Oz \n",
    "# was its brutality and unflinching scenes of violence, which set in right from the word GO. \n",
    "# Trust me, this is not a show for the faint hearted or timid. This show pulls no punches with regards to drugs, \n",
    "# sex or violence. Its is hardcore, in the classic use of the word.<br /><br />It is called OZ as that is the nickname given to \n",
    "# the Oswald Maximum Security State Penitentary. It focuses mainly on Emerald City, an experimental section of the prison where \n",
    "# all the cells have glass fronts and face inwards, so privacy is not high on the agenda. Em City is home to many..Aryans, Muslims,\n",
    "# gangstas, Latinos, Christians, Italians, Irish and more....so scuffles, death stares, dodgy dealings and shady agreements\n",
    "# are never far away.<br /><br />I would say the main appeal of the show is due to the fact that it goes where other\n",
    "# shows wouldn't dare. Forget pretty pictures painted for mainstream audiences, forget charm, forget romance...\n",
    "# OZ doesn't mess around. The first episode I ever saw struck me as so nasty it was surreal, I couldn't say I was ready for it,\n",
    "# but as I watched more, I developed a taste for Oz, and got accustomed to the high levels of graphic violence. \n",
    "# Not just violence, but injustice (crooked guards who'll be sold out for a nickel, inmates who'll kill on order and get away \n",
    "# with it, well mannered, middle class inmates being turned into prison bitches due to their lack of street skills or prison \n",
    "# experience) Watching Oz, you may become comfortable with what is uncomfortable viewing....thats if you can get in touch with\n",
    "# your darker side.\"\"\"\n",
    "text = \"\"\"\"I Feel the Niiiiiight Heat! I feel your HEEAAAAAAAAAART-beat! \n",
    "Something ain't right!\"\" Theme song written by B.J. Cook from Skylark- David \n",
    "Foster's old band and wife. She also wrote the memorable theme from CBC's \"\"Airwaves.\"\" \n",
    "OH Night Heat! What a program! Well-written, well-acted and totally classic. Crime solvers and a good \n",
    "team and a dash of humour at the end. I'd like to think this is really what detectives do/did. Giambone was \n",
    "a real favourite! On a Canadian tip, I learned EVERY Canadian actor's name and style from guest spots done on Night Heat. \n",
    "Everyone passed through the Night Heat set and like Law & Order, it was story-driven so you could just watch \n",
    "and enjoy without a lot of character melodrama.\n",
    "\"\"\""
   ]
  },
  {
   "cell_type": "markdown",
   "id": "9e462a1d",
   "metadata": {},
   "source": [
    "## 1. Nettoyage"
   ]
  },
  {
   "cell_type": "code",
   "execution_count": 3,
   "id": "c0b97b48",
   "metadata": {},
   "outputs": [],
   "source": [
    "def text_lowercase(text):\n",
    "    return text.lower()"
   ]
  },
  {
   "cell_type": "code",
   "execution_count": 4,
   "id": "6db8750a",
   "metadata": {},
   "outputs": [],
   "source": [
    "# def remove_numbers(text):\n",
    "#     result = re.sub(r'\\d+', '', text)\n",
    "#     return result"
   ]
  },
  {
   "cell_type": "code",
   "execution_count": 5,
   "id": "f8b98846",
   "metadata": {},
   "outputs": [],
   "source": [
    "p = inflect.engine()\n",
    "def convert_number(text):\n",
    "    temp_str = text.split()\n",
    "    new_string = []\n",
    "\n",
    "    for word in temp_str:\n",
    "        if word.isdigit():\n",
    "            temp = p.number_to_words(word)\n",
    "            new_string.append(temp)\n",
    "\n",
    "        else:\n",
    "            new_string.append(word)\n",
    "\n",
    "    temp_str = ' '.join(new_string)\n",
    "    return temp_str"
   ]
  },
  {
   "cell_type": "code",
   "execution_count": 6,
   "id": "52657a73",
   "metadata": {},
   "outputs": [],
   "source": [
    "def remove_punctuation(text):\n",
    "    translator = str.maketrans('', '', string.punctuation)\n",
    "    return text.translate(translator)"
   ]
  },
  {
   "cell_type": "code",
   "execution_count": 7,
   "id": "23414591",
   "metadata": {},
   "outputs": [],
   "source": [
    "def remove_whitespace(text):\n",
    "    return  \" \".join(text.split())"
   ]
  },
  {
   "cell_type": "code",
   "execution_count": 8,
   "id": "92830c13",
   "metadata": {},
   "outputs": [],
   "source": [
    "def remove_br_tags(text: str) -> str:\n",
    "\n",
    "    return re.sub(r'<br\\s*/?>', ' ', text).strip()\n"
   ]
  },
  {
   "cell_type": "code",
   "execution_count": 9,
   "id": "7820e4aa",
   "metadata": {},
   "outputs": [],
   "source": [
    "def remove_html_tags_regex(text):\n",
    "    return re.sub(r'</?(?:b|i|u|em|strong|br|hr|p|div|span|a|img|ul|ol|li|h[1-6]|blockquote)[^>]*>', '', text, flags=re.IGNORECASE)"
   ]
  },
  {
   "cell_type": "code",
   "execution_count": 10,
   "id": "3e226a63",
   "metadata": {},
   "outputs": [],
   "source": [
    "def correction(text):\n",
    "    incorrect_Sentences = text\n",
    "    txtBlob = TextBlob(incorrect_Sentences)\n",
    "    return txtBlob.correct().string"
   ]
  },
  {
   "cell_type": "code",
   "execution_count": 11,
   "id": "bae9cf12",
   "metadata": {},
   "outputs": [],
   "source": [
    "# text_lowercase = text_lowercase(text)\n",
    "# # text_no_numbers = remove_numbers(text_lowercase)\n",
    "# text_converted_numbers = convert_number(text_lowercase)\n",
    "# text_no_tags = remove_html_tags_regex(text_converted_numbers)\n",
    "# text_no_punctuation = remove_punctuation(text_no_tags)\n",
    "# text_corrected = correction(text_no_punctuation)\n",
    "# text_no_whitespace = remove_whitespace(text_corrected)\n"
   ]
  },
  {
   "cell_type": "code",
   "execution_count": 12,
   "id": "6f7d38e3",
   "metadata": {},
   "outputs": [],
   "source": [
    "# print(\"Original Text:\\n\", text)\n",
    "# # print(\"\\nLowercase Text:\\n\", text_lowercase)\n",
    "# # print(\"\\nText without Numbers:\\n\", text_no_numbers)\n",
    "# # print(\"\\nText with Converted Numbers:\\n\", text_converted_numbers)\n",
    "# # print(\"\\nText without Punctuation:\\n\", text_no_punctuation)\n",
    "# # print(\"\\nText without HTML Tags:\\n\", text_no_tags)\n",
    "# # print(\"\\nText Corrected:\\n\", text_corrected)\n",
    "# print(\"\\nText without Extra Whitespace:\\n\", text_no_whitespace)\n"
   ]
  },
  {
   "cell_type": "markdown",
   "id": "6229e8a8",
   "metadata": {},
   "source": [
    "## 2. tokenization"
   ]
  },
  {
   "cell_type": "code",
   "execution_count": 13,
   "id": "622484b1",
   "metadata": {},
   "outputs": [
    {
     "name": "stderr",
     "output_type": "stream",
     "text": [
      "[nltk_data] Downloading package punkt_tab to\n",
      "[nltk_data]     /Users/khadijaaassi/nltk_data...\n",
      "[nltk_data]   Package punkt_tab is already up-to-date!\n",
      "[nltk_data] Downloading package wordnet to\n",
      "[nltk_data]     /Users/khadijaaassi/nltk_data...\n",
      "[nltk_data]   Package wordnet is already up-to-date!\n",
      "[nltk_data] Downloading package stopwords to\n",
      "[nltk_data]     /Users/khadijaaassi/nltk_data...\n",
      "[nltk_data]   Package stopwords is already up-to-date!\n"
     ]
    },
    {
     "data": {
      "text/plain": [
       "True"
      ]
     },
     "execution_count": 13,
     "metadata": {},
     "output_type": "execute_result"
    }
   ],
   "source": [
    "nltk.download('punkt_tab')\n",
    "nltk.download('wordnet')\n",
    "nltk.download('stopwords')\n"
   ]
  },
  {
   "cell_type": "code",
   "execution_count": 14,
   "id": "7e58d08d",
   "metadata": {},
   "outputs": [],
   "source": [
    "\n",
    "def remove_stopwords(text):\n",
    "    stop_words = set(stopwords.words(\"english\"))\n",
    "    word_tokens = word_tokenize(text)\n",
    "    filtered_text = [word for word in word_tokens if word not in stop_words]\n",
    "    return ' '.join(filtered_text)\n"
   ]
  },
  {
   "cell_type": "code",
   "execution_count": 15,
   "id": "87e88a35",
   "metadata": {},
   "outputs": [],
   "source": [
    "stemmer = PorterStemmer()\n",
    "def stem_words(text):\n",
    "    word_tokens = word_tokenize(text)\n",
    "    stems = [stemmer.stem(word) for word in word_tokens]\n",
    "    return ' '.join(stems)\n",
    "lemmatizer = WordNetLemmatizer()\n"
   ]
  },
  {
   "cell_type": "code",
   "execution_count": 16,
   "id": "66308c86",
   "metadata": {},
   "outputs": [],
   "source": [
    "def lemma_words(text):\n",
    "    word_tokens = word_tokenize(text)\n",
    "    lemmas = [lemmatizer.lemmatize(word) for word in word_tokens]\n",
    "    return lemmas"
   ]
  },
  {
   "cell_type": "code",
   "execution_count": 17,
   "id": "595b2da6",
   "metadata": {},
   "outputs": [],
   "source": [
    "# text_no_stopwords = remove_stopwords(text_no_whitespace)\n",
    "# text_stemmed = stem_words(text_no_stopwords)\n",
    "# text_lemmatized = lemma_words(text_no_stopwords)\n"
   ]
  },
  {
   "cell_type": "code",
   "execution_count": 18,
   "id": "51282131",
   "metadata": {},
   "outputs": [],
   "source": [
    "# print(\"\\nText without Stopwords:\\n\", text_no_stopwords)\n",
    "# print(\"\\nStemmed Text:\\n\", text_stemmed)\n",
    "# print(\"\\nLemmatized Text:\\n\", text_lemmatized)"
   ]
  },
  {
   "cell_type": "markdown",
   "id": "bc73462f",
   "metadata": {},
   "source": [
    "## Pipeline"
   ]
  },
  {
   "cell_type": "code",
   "execution_count": 19,
   "id": "88581dd6",
   "metadata": {},
   "outputs": [],
   "source": [
    "def pipeline(text):\n",
    "\n",
    "    text_clean = text_lowercase(text)\n",
    "    # text_clean = remove_numbers(text_clean)  # si tu veux l’ajouter\n",
    "    text_clean = convert_number(text_clean)\n",
    "    text_clean = remove_html_tags_regex(text_clean)\n",
    "    text_clean = remove_punctuation(text_clean)\n",
    "    text_clean = correction(text_clean)\n",
    "    text_clean = remove_whitespace(text_clean)\n",
    "    text_clean = remove_stopwords(text_clean)\n",
    "    text_clean = stem_words(text_clean)\n",
    "    return text_clean"
   ]
  },
  {
   "cell_type": "code",
   "execution_count": 23,
   "id": "409c96a2",
   "metadata": {},
   "outputs": [
    {
     "name": "stdout",
     "output_type": "stream",
     "text": [
      "\n",
      "Pipeline completed. Cleaned data saved to 'data/IMDB_Dataset_Cleaned.csv'.\n"
     ]
    }
   ],
   "source": [
    "df = pd.read_csv(\"data/IMDB_Dataset.csv\")\n",
    "df['review'] = df['review'].head(10).apply(pipeline)\n",
    "df.to_csv(\"data/IMDB_Dataset_Cleaned.csv\", index=False)\n",
    "print(\"\\nPipeline completed. Cleaned data saved to 'data/IMDB_Dataset_Cleaned.csv'.\")"
   ]
  }
 ],
 "metadata": {
  "kernelspec": {
   "display_name": ".venv",
   "language": "python",
   "name": "python3"
  },
  "language_info": {
   "codemirror_mode": {
    "name": "ipython",
    "version": 3
   },
   "file_extension": ".py",
   "mimetype": "text/x-python",
   "name": "python",
   "nbconvert_exporter": "python",
   "pygments_lexer": "ipython3",
   "version": "3.12.3"
  }
 },
 "nbformat": 4,
 "nbformat_minor": 5
}
