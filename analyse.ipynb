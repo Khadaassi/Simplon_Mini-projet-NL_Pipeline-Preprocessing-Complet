{
 "cells": [
  {
   "cell_type": "code",
   "execution_count": 2,
   "id": "a4721e33",
   "metadata": {},
   "outputs": [],
   "source": [
    "import pandas as pd\n",
    "import re"
   ]
  },
  {
   "cell_type": "code",
   "execution_count": 3,
   "id": "ef825188",
   "metadata": {},
   "outputs": [],
   "source": [
    "df = pd.read_csv('data/IMDB_Dataset.csv')"
   ]
  },
  {
   "cell_type": "code",
   "execution_count": null,
   "id": "2b0dec74",
   "metadata": {},
   "outputs": [
    {
     "data": {
      "text/plain": [
       "np.int64(418)"
      ]
     },
     "execution_count": 16,
     "metadata": {},
     "output_type": "execute_result"
    }
   ],
   "source": [
    "df = df.drop_duplicates()"
   ]
  },
  {
   "cell_type": "code",
   "execution_count": 15,
   "id": "53c4329b",
   "metadata": {},
   "outputs": [
    {
     "data": {
      "text/plain": [
       "(49582,)"
      ]
     },
     "execution_count": 15,
     "metadata": {},
     "output_type": "execute_result"
    }
   ],
   "source": [
    "df['review'].unique().shape"
   ]
  },
  {
   "cell_type": "code",
   "execution_count": 12,
   "id": "869ca072",
   "metadata": {},
   "outputs": [
    {
     "name": "stdout",
     "output_type": "stream",
     "text": [
      "(50000, 3)\n",
      "                                              review sentiment  \\\n",
      "0  One of the other reviewers has mentioned that ...  positive   \n",
      "1  A wonderful little production. <br /><br />The...  positive   \n",
      "\n",
      "                                      cleaned_review  \n",
      "0  One of the other reviewers has mentioned that ...  \n",
      "1  A wonderful little production. The filming tec...  \n"
     ]
    }
   ],
   "source": [
    "print(df.shape)\n",
    "print(df.head(2))"
   ]
  },
  {
   "cell_type": "code",
   "execution_count": 5,
   "id": "e932e645",
   "metadata": {},
   "outputs": [
    {
     "data": {
      "text/plain": [
       "array(['After many, many years I saw again this beautiful love story, thinking about how would I, half a century after, react to a film which made so many girls cry and sigh at that time, when I was just an male adolescent trying to understand women\\'s behaviors, in a small city in Brazil.<br /><br />This time, however, what caught my attention in the film was something very different, namely the insistence with which the physician Dr. Han Suyin (Jennifer Jones) makes clear to the journalist Mark Elliott (William Holden) her special ethically condition as an Eurasian. In fact, she is constantly putting emphasis on this point in their relationship, repeating she is willing to assume her love for him and carry it on in a \"occidental way\", provided that, by doing so, she is not betraying her Chinese side. Its seems to the spectator that Suyin is eagerly making efforts to establish a very subtle conciliation between those two unstable and opposite aspects of her culture, for they will immediately engage in overt conflict in her mind at a minimum failure in her attempts to control them.<br /><br />Therefore, Suyin\\'s attitudes always leave poor Elliott \\x96 a determined, brave and extremely practical man \\x96 anxious and perplexed, without knowing how much importance to give to her words. For him, whose love for her is plain and simple, the situation is totally clear: if we love each other, let us make a couple and begin immediately a life together. \"Not so fast\", is what she seems, verbally and non-verbally, to answer him all the time.<br /><br />In fact, Suyin\\'s Chinese portion would never allow her such a level of pragmatism. And, as she goes on and on reinforcing this much aimed equilibrium between those two worlds inside herself, she also frequently signals to him that also a very peculiar trait of Chinese culture is deeply rooted in her mind, namely the constant \"raids\" on the real world by invisible beings from an spiritual or non-physical world. For Suyin is always alerting Elliott about how dangerous is life, not because of any objective and concrete threat (as would be the perpetuation of the English colonialism or the eminence of a Japanese invasion), but due to the threats of plenty of cruel and harmful gods and other mystical and mythical beings over the poor, fearful and vulnerable human beings.<br /><br />In fact, it looks like a whole bunch of Chinese deities are permanently on the watch to make people\\'s life totally miserable. Because of that, mothers must dress their precious male babies in girls clothes, so that they are not taken away by jealous gods; everyone should always be ready to make loud noises to send the clouds away, in order to avoid their covering the sight of the moon; peasants are advised that they should shout loudly \"The rice is bad! The rice is bad!\" to protect their crops from being stolen by deities; and, in a funeral, it is recommended that the dead\\'s family be isolated from the other people by curtains, so that the gods don\\'t take advantage of their sorrow and fragility.<br /><br />In other words, Suyin introduces us to a culture in which the supernatural has a real existence, as if a rather disturbing pantheon of malign and sadistic gods are always on the verge of negatively interfering with the most banal acts in anyone\\'s daily life.<br /><br />As the story takes place in Hong Kong in 1949, it should be clear that China really was, at that time, almost a semi-feudal society, while the country from which Elliott had come from was not yet dominated by the fierce capitalism that, launched by the USA after the first oil shock in 1973, took charge of the whole world. Therefore, at least in one aspect, both sides of Suyin\\'s Eurasian personality were still much more innocent than they would be today.<br /><br />A lot of History came into being since those old days. As to China, the main fact is that, after several phases of a communist regime, the country finally reached, in the last two decades, the condition of a very aggressive economy much more properly described as State capitalism. And, what happened to that old spirituality that so much enthralled Suyin in Hong Kong, in 1949, and with which she used to impress so much an impassioned Elliott, under that tree on the hill behind the hospital? It is gone, completely gone! In brief, if that story took place today, Elliott would not find it necessary to go to China to propose to Suyin in the presence of the Third Uncle and her entire family. In fact, both men would now be incomparably closer to one another, in their huge pragmatism, talking business as usual!',\n",
       "       \"There seem to be many fans of this movie here, but I found it boring, slow, meandering, and pointless. And I watch and enjoy plenty of art-house and independent films, so I wasn't expecting an action movie. I didn't sympathize with either character. The guy from the countryside was a bad guest and didn't seem to be trying very hard to find a job, and his relative in Istanbul was humorless and closed off emotionally. <br /><br />In an interview on the DVD, the director says that the movie is about a common situation in Turkey - the person leaving in the countryside because there are no jobs and coming to Istanbul and staying with relatives while trying to find work. That in itself is interesting, but the movie wasn't.\",\n",
       "       \"I've only seen about a half dozen films starring Lino Ventura, but this one seems very much like the others. He plays a laconic criminal--one who is short on words and subdued yet occasionally explosive. Given his quiet persona in such films as ARMY OF SHADOWS and SECOND BREATH, I've noticed that his minimalist style of acting is extremely effective. In other words, because he is so quiet and mannered, when he does bad things you tend to notice. And, like these other films, he also has a very strong, though twisted, moral code.<br /><br />Abel Davos (Ventura) and his partner, Lilane, are both living in Italy and are career criminals. Both grew up in France and eventually had to flea due to their criminal activities. Now in Italy as the film begins, they continue to live the life of thugs and the heat is on to catch them. Oddly, instead of running to yet a third country, they decide to go back to France--even though Davos has been tried and convicted in absentia--and if he's caught it could mean a life in prison or the death penalty. Much of the first third of the film concerns their covert return.<br /><br />Unfortunately for Davos, the return doesn't go perfectly and now it seems as if every cop in France is looking for him. Additionally, the reaction of his old compatriots in crime is not at all what he'd expect. In fact, their tepid response to his return ends up unleashing a series of terrible events towards the end of the film.<br /><br />Along the way, Davos meets and is taken in my a stranger, Eric Stark (Jean-Paul Belmondo). Despite Davos seemingly having no friends, Stark and his lady friend try their best to make his return successful. What throws another monkey wrench into this, though, is Davos' two very young sons--what is Davos to do with them--keep them with him in his hiding place? <br /><br />Overall, this is a very good crime film--sort of like French Film Noir. Unlike American Noir, the many French versions I have seen have a more realistic as well as bleak outlook to them. Fatalism reigns supreme, that's for sure! The acting is first-rate (especially from Ventura and Belmondo), the direction very sure and the writing very nice, though I am sure many won't like the ending. It just seems to be tacked on--like an afterthought. I understood why they did it this way, but can also see how it might leave many unsatisfied. As for me, it did leave me a tad flat. Otherwise, an exceptional film.\"],\n",
       "      dtype=object)"
      ]
     },
     "execution_count": 5,
     "metadata": {},
     "output_type": "execute_result"
    }
   ],
   "source": [
    "df[\"review\"].sample(3).values\n"
   ]
  },
  {
   "cell_type": "code",
   "execution_count": 6,
   "id": "19a37560",
   "metadata": {},
   "outputs": [
    {
     "name": "stdout",
     "output_type": "stream",
     "text": [
      "review\n",
      "<br />                                                                                                                                                                                                                             201935\n",
      "</i>                                                                                                                                                                                                                                    8\n",
      "<i>                                                                                                                                                                                                                                     8\n",
      "<grin>                                                                                                                                                                                                                                  2\n",
      "<=8.<br />                                                                                                                                                                                                                              2\n",
      "< Cough >                                                                                                                                                                                                                               2\n",
      "< YES >                                                                                                                                                                                                                                 1\n",
      "<3 <br />                                                                                                                                                                                                                               1\n",
      "<<<<<br />                                                                                                                                                                                                                              1\n",
      "<<<<<<br />                                                                                                                                                                                                                             1\n",
      "<< Review posted at FilmDailies.com>                                                                                                                                                                                                    1\n",
      "< and make notes for my partial \"review\" to show how foolish the movie is. \"Resident Evil\" (horror) or \"Dude, Where's My Car?\" (comedy) I can watch over and over again and still enjoy! But this...!<br />                             1\n",
      "<SPOILER>                                                                                                                                                                                                                               1\n",
      "</SPOILER>                                                                                                                                                                                                                              1\n",
      "<p>                                                                                                                                                                                                                                     1\n",
      "< who was to be a victim, but woman-power trumps evil scientist every time.<br />                                                                                                                                                       1\n",
      "< Cough , cough >                                                                                                                                                                                                                       1\n",
      "<hr>                                                                                                                                                                                                                                    1\n",
      "< $600 per screen its opening weekend, and just over $400 each, after its month's theater run in latter 2002. Overall gross was $261K, which I'd doubt could cover cast and crew's hotel and food for a week on location.<br />         1\n",
      "<http://rogerebert.suntimes.com/apps/pbcs.dll/section?category=ANSWERMAN>                                                                                                                                                               1\n",
      "<< controversial.<br />                                                                                                                                                                                                                 1\n",
      "<sp?) classic \"Romeo & Juliet\". Guess I'll have to rent that next.<br />                                                                                                                                                                1\n",
      "<..>                                                                                                                                                                                                                                    1\n",
      "< than 30 minutes of watching, being bored and irritated. <br />                                                                                                                                                                        1\n",
      "<<<sigh>                                                                                                                                                                                                                                1\n",
      "<33<br />                                                                                                                                                                                                                               1\n",
      "<<<<< ......... ......... ........................ ................ ..................... .................. .............. ............ ................<br />                                                                         1\n",
      "<em>                                                                                                                                                                                                                                    1\n",
      "</em>                                                                                                                                                                                                                                   1\n",
      "<-----Minor Spoilers!----->                                                                                                                                                                                                             1\n",
      "<-----Minor Spoilers!---->                                                                                                                                                                                                              1\n",
      "Name: count, dtype: int64\n"
     ]
    }
   ],
   "source": [
    "def extract_html_tags(text):\n",
    "    return re.findall(r'<[^>]+>', text)\n",
    "\n",
    "all_tags = df[\"review\"].apply(extract_html_tags).explode().value_counts()\n",
    "print(all_tags)"
   ]
  },
  {
   "cell_type": "code",
   "execution_count": 7,
   "id": "c3bc493f",
   "metadata": {},
   "outputs": [],
   "source": [
    "\n",
    "def remove_html_tags_regex(text):\n",
    "    return re.sub(r'</?(?:b|i|u|em|strong|br|hr|p|div|span|a|img|ul|ol|li|h[1-6]|blockquote)[^>]*>', '', text, flags=re.IGNORECASE)\n",
    "    \n",
    "df[\"cleaned_review\"] = df[\"review\"].apply(remove_html_tags_regex)"
   ]
  },
  {
   "cell_type": "code",
   "execution_count": 8,
   "id": "4d7da1ab",
   "metadata": {},
   "outputs": [
    {
     "name": "stdout",
     "output_type": "stream",
     "text": [
      "cleaned_review\n",
      "<grin>                                                                       2\n",
      "< Cough >                                                                    2\n",
      "<<<<>                                                                        1\n",
      "<< Review posted at FilmDailies.com>                                         1\n",
      "<SPOILER>                                                                    1\n",
      "< YES >                                                                      1\n",
      "</SPOILER>                                                                   1\n",
      "< Cough , cough >                                                            1\n",
      "<http://rogerebert.suntimes.com/apps/pbcs.dll/section?category=ANSWERMAN>    1\n",
      "<sp?) classic \"Romeo & Juliet\". Guess I'll have to rent that next.>          1\n",
      "<..>                                                                         1\n",
      "<<<sigh>                                                                     1\n",
      "<-----Minor Spoilers!----->                                                  1\n",
      "<-----Minor Spoilers!---->                                                   1\n",
      "Name: count, dtype: int64\n"
     ]
    }
   ],
   "source": [
    "all_tags = df[\"cleaned_review\"].apply(extract_html_tags).explode().value_counts()\n",
    "print(all_tags)"
   ]
  },
  {
   "cell_type": "code",
   "execution_count": 9,
   "id": "3f0126a6",
   "metadata": {},
   "outputs": [],
   "source": [
    "from bs4 import BeautifulSoup\n",
    "\n",
    "# Supprimez les balises HTML en utilisant BeautifulSoup (plus fiable que les regex)\n",
    "def remove_html_tags(text):\n",
    "    soup = BeautifulSoup(text, \"html.parser\")\n",
    "    return soup.get_text()\n",
    "\n",
    "# Appliquer à la colonne 'review'\n",
    "df[\"cleaned_review\"] = df[\"review\"].apply(remove_html_tags)\n"
   ]
  },
  {
   "cell_type": "code",
   "execution_count": 10,
   "id": "1118af01",
   "metadata": {},
   "outputs": [
    {
     "name": "stdout",
     "output_type": "stream",
     "text": [
      "cleaned_review\n",
      "< Cough >                               2\n",
      "< YES >                                 1\n",
      "<<<<>                                   1\n",
      "<< Review posted at FilmDailies.com>    1\n",
      "< Cough , cough >                       1\n",
      "<..>                                    1\n",
      "<<>                                     1\n",
      "<-----Minor Spoilers!----->             1\n",
      "<-----Minor Spoilers!---->              1\n",
      "Name: count, dtype: int64\n"
     ]
    }
   ],
   "source": [
    "\n",
    "all_tags = df[\"cleaned_review\"].apply(extract_html_tags).explode().value_counts()\n",
    "print(all_tags)"
   ]
  }
 ],
 "metadata": {
  "kernelspec": {
   "display_name": ".venv",
   "language": "python",
   "name": "python3"
  },
  "language_info": {
   "codemirror_mode": {
    "name": "ipython",
    "version": 3
   },
   "file_extension": ".py",
   "mimetype": "text/x-python",
   "name": "python",
   "nbconvert_exporter": "python",
   "pygments_lexer": "ipython3",
   "version": "3.12.3"
  }
 },
 "nbformat": 4,
 "nbformat_minor": 5
}
